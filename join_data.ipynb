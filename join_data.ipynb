{
 "cells": [
  {
   "cell_type": "code",
   "execution_count": 1,
   "metadata": {},
   "outputs": [
    {
     "data": {
      "application/javascript": [
       "\n",
       "            setTimeout(function() {\n",
       "                var nbb_cell_id = 1;\n",
       "                var nbb_unformatted_code = \"%reload_ext nb_black\";\n",
       "                var nbb_formatted_code = \"%reload_ext nb_black\";\n",
       "                var nbb_cells = Jupyter.notebook.get_cells();\n",
       "                for (var i = 0; i < nbb_cells.length; ++i) {\n",
       "                    if (nbb_cells[i].input_prompt_number == nbb_cell_id) {\n",
       "                        if (nbb_cells[i].get_text() == nbb_unformatted_code) {\n",
       "                             nbb_cells[i].set_text(nbb_formatted_code);\n",
       "                        }\n",
       "                        break;\n",
       "                    }\n",
       "                }\n",
       "            }, 500);\n",
       "            "
      ],
      "text/plain": [
       "<IPython.core.display.Javascript object>"
      ]
     },
     "metadata": {},
     "output_type": "display_data"
    }
   ],
   "source": [
    "%reload_ext nb_black"
   ]
  },
  {
   "cell_type": "code",
   "execution_count": 2,
   "metadata": {},
   "outputs": [
    {
     "name": "stdout",
     "output_type": "stream",
     "text": [
      "spotify.shape: (28494, 5)\n",
      "spotify.columns: ['end_time', 'artist_name', 'track_name', 'time_played', 'start_time']\n",
      "\n",
      "face.shape: (42165, 7)\n",
      "face.columns: ['timestamp', 'angry', 'scared', 'happy', 'sad', 'surprised', 'neutral']\n"
     ]
    },
    {
     "data": {
      "application/javascript": [
       "\n",
       "            setTimeout(function() {\n",
       "                var nbb_cell_id = 2;\n",
       "                var nbb_unformatted_code = \"import glob\\nimport pandas as pd\\nfrom tqdm.notebook import tqdm\\n\\n\\nspotify = pd.read_csv(\\n    \\\"data/spotify_data.csv\\\",\\n    names=[\\\"end_time\\\", \\\"artist_name\\\", \\\"track_name\\\", \\\"time_played\\\"],\\n    header=0,\\n)\\n\\nspotify[\\\"end_time\\\"] = pd.to_datetime(spotify[\\\"end_time\\\"], utc=True)\\nspotify[\\\"time_played\\\"] = pd.to_timedelta(spotify[\\\"time_played\\\"], unit=\\\"ms\\\")\\n\\nspotify[\\\"start_time\\\"] = spotify[\\\"end_time\\\"] - spotify[\\\"time_played\\\"]\\n\\nprint(f\\\"spotify.shape: {spotify.shape}\\\")\\nprint(f\\\"spotify.columns: {list(spotify.columns)}\\\")\\n\\nface = pd.read_csv(\\\"data/emotion_data.csv\\\")\\nface[\\\"timestamp\\\"] = pd.to_datetime(face[\\\"timestamp\\\"], utc=True)\\n\\nprint(f\\\"\\\\nface.shape: {face.shape}\\\")\\nprint(f\\\"face.columns: {list(face.columns)}\\\")\";\n",
       "                var nbb_formatted_code = \"import glob\\nimport pandas as pd\\nfrom tqdm.notebook import tqdm\\n\\n\\nspotify = pd.read_csv(\\n    \\\"data/spotify_data.csv\\\",\\n    names=[\\\"end_time\\\", \\\"artist_name\\\", \\\"track_name\\\", \\\"time_played\\\"],\\n    header=0,\\n)\\n\\nspotify[\\\"end_time\\\"] = pd.to_datetime(spotify[\\\"end_time\\\"], utc=True)\\nspotify[\\\"time_played\\\"] = pd.to_timedelta(spotify[\\\"time_played\\\"], unit=\\\"ms\\\")\\n\\nspotify[\\\"start_time\\\"] = spotify[\\\"end_time\\\"] - spotify[\\\"time_played\\\"]\\n\\nprint(f\\\"spotify.shape: {spotify.shape}\\\")\\nprint(f\\\"spotify.columns: {list(spotify.columns)}\\\")\\n\\nface = pd.read_csv(\\\"data/emotion_data.csv\\\")\\nface[\\\"timestamp\\\"] = pd.to_datetime(face[\\\"timestamp\\\"], utc=True)\\n\\nprint(f\\\"\\\\nface.shape: {face.shape}\\\")\\nprint(f\\\"face.columns: {list(face.columns)}\\\")\";\n",
       "                var nbb_cells = Jupyter.notebook.get_cells();\n",
       "                for (var i = 0; i < nbb_cells.length; ++i) {\n",
       "                    if (nbb_cells[i].input_prompt_number == nbb_cell_id) {\n",
       "                        if (nbb_cells[i].get_text() == nbb_unformatted_code) {\n",
       "                             nbb_cells[i].set_text(nbb_formatted_code);\n",
       "                        }\n",
       "                        break;\n",
       "                    }\n",
       "                }\n",
       "            }, 500);\n",
       "            "
      ],
      "text/plain": [
       "<IPython.core.display.Javascript object>"
      ]
     },
     "metadata": {},
     "output_type": "display_data"
    }
   ],
   "source": [
    "import glob\n",
    "import pandas as pd\n",
    "from tqdm.notebook import tqdm\n",
    "\n",
    "\n",
    "spotify = pd.read_csv(\n",
    "    \"data/spotify_data.csv\",\n",
    "    names=[\"end_time\", \"artist_name\", \"track_name\", \"time_played\"],\n",
    "    header=0,\n",
    ")\n",
    "\n",
    "spotify[\"end_time\"] = pd.to_datetime(spotify[\"end_time\"], utc=True)\n",
    "spotify[\"time_played\"] = pd.to_timedelta(spotify[\"time_played\"], unit=\"ms\")\n",
    "\n",
    "spotify[\"start_time\"] = spotify[\"end_time\"] - spotify[\"time_played\"]\n",
    "\n",
    "print(f\"spotify.shape: {spotify.shape}\")\n",
    "print(f\"spotify.columns: {list(spotify.columns)}\")\n",
    "\n",
    "face = pd.read_csv(\"data/emotion_data.csv\")\n",
    "face[\"timestamp\"] = pd.to_datetime(face[\"timestamp\"], utc=True)\n",
    "\n",
    "print(f\"\\nface.shape: {face.shape}\")\n",
    "print(f\"face.columns: {list(face.columns)}\")"
   ]
  },
  {
   "cell_type": "code",
   "execution_count": 3,
   "metadata": {},
   "outputs": [
    {
     "data": {
      "application/vnd.jupyter.widget-view+json": {
       "model_id": "c9db27f720024d8d805271a949d8362f",
       "version_major": 2,
       "version_minor": 0
      },
      "text/plain": [
       "HBox(children=(FloatProgress(value=0.0, max=42165.0), HTML(value='')))"
      ]
     },
     "metadata": {},
     "output_type": "display_data"
    },
    {
     "name": "stdout",
     "output_type": "stream",
     "text": [
      "\n",
      "joined_df.shape: (14857, 12)\n"
     ]
    },
    {
     "data": {
      "application/javascript": [
       "\n",
       "            setTimeout(function() {\n",
       "                var nbb_cell_id = 3;\n",
       "                var nbb_unformatted_code = \"# INNER JOIN dfs BETWEEN datetimes\\n# pandas doesnt offer feature afaik and dont want to learn a new pkg\\n# its... pretty slow....\\n\\njoined_rows = []\\nfor i, row in tqdm(face.iterrows(), total=face.shape[0]):\\n    # fmt: off\\n    time_filter = ((spotify[\\\"start_time\\\"] < row[\\\"timestamp\\\"]) & \\n                   (spotify[\\\"end_time\\\"] > row[\\\"timestamp\\\"]))\\n    # fmt: on\\n\\n    to_join = spotify[time_filter]\\n\\n    if to_join.shape[0] < 1:\\n        continue\\n    elif to_join.shape[0] > 1:\\n        # cop out and going to take first if multiple\\n        to_join = to_join.iloc[[0], :]\\n\\n    row_df = pd.DataFrame(row).T\\n\\n    row_df.index = [i]\\n    to_join.index = [i]\\n\\n    joined_row = pd.concat((row_df, to_join), axis=1)\\n    joined_rows.append(joined_row)\\n\\n\\njoined_df = pd.concat(joined_rows)\\njoined_df = joined_df.reset_index(drop=True)\\njoined_df = joined_df.dropna()\\n\\nprint(f\\\"joined_df.shape: {joined_df.shape}\\\")\";\n",
       "                var nbb_formatted_code = \"# INNER JOIN dfs BETWEEN datetimes\\n# pandas doesnt offer feature afaik and dont want to learn a new pkg\\n# its... pretty slow....\\n\\njoined_rows = []\\nfor i, row in tqdm(face.iterrows(), total=face.shape[0]):\\n    # fmt: off\\n    time_filter = ((spotify[\\\"start_time\\\"] < row[\\\"timestamp\\\"]) & \\n                   (spotify[\\\"end_time\\\"] > row[\\\"timestamp\\\"]))\\n    # fmt: on\\n\\n    to_join = spotify[time_filter]\\n\\n    if to_join.shape[0] < 1:\\n        continue\\n    elif to_join.shape[0] > 1:\\n        # cop out and going to take first if multiple\\n        to_join = to_join.iloc[[0], :]\\n\\n    row_df = pd.DataFrame(row).T\\n\\n    row_df.index = [i]\\n    to_join.index = [i]\\n\\n    joined_row = pd.concat((row_df, to_join), axis=1)\\n    joined_rows.append(joined_row)\\n\\n\\njoined_df = pd.concat(joined_rows)\\njoined_df = joined_df.reset_index(drop=True)\\njoined_df = joined_df.dropna()\\n\\nprint(f\\\"joined_df.shape: {joined_df.shape}\\\")\";\n",
       "                var nbb_cells = Jupyter.notebook.get_cells();\n",
       "                for (var i = 0; i < nbb_cells.length; ++i) {\n",
       "                    if (nbb_cells[i].input_prompt_number == nbb_cell_id) {\n",
       "                        if (nbb_cells[i].get_text() == nbb_unformatted_code) {\n",
       "                             nbb_cells[i].set_text(nbb_formatted_code);\n",
       "                        }\n",
       "                        break;\n",
       "                    }\n",
       "                }\n",
       "            }, 500);\n",
       "            "
      ],
      "text/plain": [
       "<IPython.core.display.Javascript object>"
      ]
     },
     "metadata": {},
     "output_type": "display_data"
    }
   ],
   "source": [
    "# INNER JOIN dfs BETWEEN datetimes\n",
    "# pandas doesnt offer feature afaik and dont want to learn a new pkg\n",
    "# its... pretty slow....\n",
    "\n",
    "joined_rows = []\n",
    "for i, row in tqdm(face.iterrows(), total=face.shape[0]):\n",
    "    # fmt: off\n",
    "    time_filter = ((spotify[\"start_time\"] < row[\"timestamp\"]) & \n",
    "                   (spotify[\"end_time\"] > row[\"timestamp\"]))\n",
    "    # fmt: on\n",
    "\n",
    "    to_join = spotify[time_filter]\n",
    "\n",
    "    if to_join.shape[0] < 1:\n",
    "        continue\n",
    "    elif to_join.shape[0] > 1:\n",
    "        # cop out and going to take first if multiple\n",
    "        to_join = to_join.iloc[[0], :]\n",
    "\n",
    "    row_df = pd.DataFrame(row).T\n",
    "\n",
    "    row_df.index = [i]\n",
    "    to_join.index = [i]\n",
    "\n",
    "    joined_row = pd.concat((row_df, to_join), axis=1)\n",
    "    joined_rows.append(joined_row)\n",
    "\n",
    "\n",
    "joined_df = pd.concat(joined_rows)\n",
    "joined_df = joined_df.reset_index(drop=True)\n",
    "joined_df = joined_df.dropna()\n",
    "\n",
    "print(f\"joined_df.shape: {joined_df.shape}\")"
   ]
  },
  {
   "cell_type": "code",
   "execution_count": 4,
   "metadata": {},
   "outputs": [
    {
     "data": {
      "application/javascript": [
       "\n",
       "            setTimeout(function() {\n",
       "                var nbb_cell_id = 4;\n",
       "                var nbb_unformatted_code = \"joined_df.to_csv(\\\"data/joined_data.csv\\\", index=False)\";\n",
       "                var nbb_formatted_code = \"joined_df.to_csv(\\\"data/joined_data.csv\\\", index=False)\";\n",
       "                var nbb_cells = Jupyter.notebook.get_cells();\n",
       "                for (var i = 0; i < nbb_cells.length; ++i) {\n",
       "                    if (nbb_cells[i].input_prompt_number == nbb_cell_id) {\n",
       "                        if (nbb_cells[i].get_text() == nbb_unformatted_code) {\n",
       "                             nbb_cells[i].set_text(nbb_formatted_code);\n",
       "                        }\n",
       "                        break;\n",
       "                    }\n",
       "                }\n",
       "            }, 500);\n",
       "            "
      ],
      "text/plain": [
       "<IPython.core.display.Javascript object>"
      ]
     },
     "metadata": {},
     "output_type": "display_data"
    }
   ],
   "source": [
    "joined_df.to_csv(\"data/joined_data.csv\", index=False)"
   ]
  }
 ],
 "metadata": {
  "kernelspec": {
   "display_name": "Python 3",
   "language": "python",
   "name": "python3"
  },
  "language_info": {
   "codemirror_mode": {
    "name": "ipython",
    "version": 3
   },
   "file_extension": ".py",
   "mimetype": "text/x-python",
   "name": "python",
   "nbconvert_exporter": "python",
   "pygments_lexer": "ipython3",
   "version": "3.7.7"
  }
 },
 "nbformat": 4,
 "nbformat_minor": 1
}
