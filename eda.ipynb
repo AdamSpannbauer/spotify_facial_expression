{
 "cells": [
  {
   "cell_type": "code",
   "execution_count": 1,
   "metadata": {},
   "outputs": [
    {
     "data": {
      "application/javascript": [
       "\n",
       "            setTimeout(function() {\n",
       "                var nbb_cell_id = 1;\n",
       "                var nbb_unformatted_code = \"%reload_ext nb_black\";\n",
       "                var nbb_formatted_code = \"%reload_ext nb_black\";\n",
       "                var nbb_cells = Jupyter.notebook.get_cells();\n",
       "                for (var i = 0; i < nbb_cells.length; ++i) {\n",
       "                    if (nbb_cells[i].input_prompt_number == nbb_cell_id) {\n",
       "                        if (nbb_cells[i].get_text() == nbb_unformatted_code) {\n",
       "                             nbb_cells[i].set_text(nbb_formatted_code);\n",
       "                        }\n",
       "                        break;\n",
       "                    }\n",
       "                }\n",
       "            }, 500);\n",
       "            "
      ],
      "text/plain": [
       "<IPython.core.display.Javascript object>"
      ]
     },
     "metadata": {},
     "output_type": "display_data"
    }
   ],
   "source": [
    "%reload_ext nb_black"
   ]
  },
  {
   "cell_type": "code",
   "execution_count": 2,
   "metadata": {},
   "outputs": [
    {
     "data": {
      "application/javascript": [
       "\n",
       "            setTimeout(function() {\n",
       "                var nbb_cell_id = 2;\n",
       "                var nbb_unformatted_code = \"import pandas as pd\\nimport numpy as np\\n\\nimport seaborn as sns\\nimport matplotlib.pyplot as plt\\n\\n%matplotlib inline\";\n",
       "                var nbb_formatted_code = \"import pandas as pd\\nimport numpy as np\\n\\nimport seaborn as sns\\nimport matplotlib.pyplot as plt\\n\\n%matplotlib inline\";\n",
       "                var nbb_cells = Jupyter.notebook.get_cells();\n",
       "                for (var i = 0; i < nbb_cells.length; ++i) {\n",
       "                    if (nbb_cells[i].input_prompt_number == nbb_cell_id) {\n",
       "                        if (nbb_cells[i].get_text() == nbb_unformatted_code) {\n",
       "                             nbb_cells[i].set_text(nbb_formatted_code);\n",
       "                        }\n",
       "                        break;\n",
       "                    }\n",
       "                }\n",
       "            }, 500);\n",
       "            "
      ],
      "text/plain": [
       "<IPython.core.display.Javascript object>"
      ]
     },
     "metadata": {},
     "output_type": "display_data"
    }
   ],
   "source": [
    "import pandas as pd\n",
    "import numpy as np\n",
    "\n",
    "import seaborn as sns\n",
    "import matplotlib.pyplot as plt\n",
    "\n",
    "%matplotlib inline"
   ]
  },
  {
   "cell_type": "code",
   "execution_count": 20,
   "metadata": {},
   "outputs": [
    {
     "name": "stdout",
     "output_type": "stream",
     "text": [
      "mf.shape: (8980, 14)\n"
     ]
    },
    {
     "data": {
      "text/html": [
       "<div>\n",
       "<style scoped>\n",
       "    .dataframe tbody tr th:only-of-type {\n",
       "        vertical-align: middle;\n",
       "    }\n",
       "\n",
       "    .dataframe tbody tr th {\n",
       "        vertical-align: top;\n",
       "    }\n",
       "\n",
       "    .dataframe thead th {\n",
       "        text-align: right;\n",
       "    }\n",
       "</style>\n",
       "<table border=\"1\" class=\"dataframe\">\n",
       "  <thead>\n",
       "    <tr style=\"text-align: right;\">\n",
       "      <th></th>\n",
       "      <th>timestamp</th>\n",
       "      <th>angry</th>\n",
       "      <th>scared</th>\n",
       "      <th>happy</th>\n",
       "      <th>sad</th>\n",
       "      <th>surprised</th>\n",
       "      <th>neutral</th>\n",
       "      <th>end_time</th>\n",
       "      <th>artist_name</th>\n",
       "      <th>track_name</th>\n",
       "      <th>time_played</th>\n",
       "      <th>start_time</th>\n",
       "      <th>track_artist</th>\n",
       "      <th>top_emotion</th>\n",
       "    </tr>\n",
       "  </thead>\n",
       "  <tbody>\n",
       "    <tr>\n",
       "      <th>0</th>\n",
       "      <td>2019-12-19 11:25:38+00:00</td>\n",
       "      <td>0.069113</td>\n",
       "      <td>0.109064</td>\n",
       "      <td>0.000982</td>\n",
       "      <td>0.557766</td>\n",
       "      <td>0.001962</td>\n",
       "      <td>0.261114</td>\n",
       "      <td>2019-12-19 11:27:00+00:00</td>\n",
       "      <td>Underground Springhouse</td>\n",
       "      <td>Joyfell</td>\n",
       "      <td>0 days 00:01:26.520000000</td>\n",
       "      <td>2019-12-19 11:25:33.480000+00:00</td>\n",
       "      <td>Joyfell - Underground Springhouse</td>\n",
       "      <td>sad</td>\n",
       "    </tr>\n",
       "    <tr>\n",
       "      <th>1</th>\n",
       "      <td>2019-12-19 11:25:53+00:00</td>\n",
       "      <td>0.024520</td>\n",
       "      <td>0.151708</td>\n",
       "      <td>0.001428</td>\n",
       "      <td>0.775339</td>\n",
       "      <td>0.001056</td>\n",
       "      <td>0.045949</td>\n",
       "      <td>2019-12-19 11:27:00+00:00</td>\n",
       "      <td>Underground Springhouse</td>\n",
       "      <td>Joyfell</td>\n",
       "      <td>0 days 00:01:26.520000000</td>\n",
       "      <td>2019-12-19 11:25:33.480000+00:00</td>\n",
       "      <td>Joyfell - Underground Springhouse</td>\n",
       "      <td>sad</td>\n",
       "    </tr>\n",
       "    <tr>\n",
       "      <th>2</th>\n",
       "      <td>2019-12-19 11:26:08+00:00</td>\n",
       "      <td>0.076808</td>\n",
       "      <td>0.146932</td>\n",
       "      <td>0.000880</td>\n",
       "      <td>0.598738</td>\n",
       "      <td>0.002113</td>\n",
       "      <td>0.174530</td>\n",
       "      <td>2019-12-19 11:27:00+00:00</td>\n",
       "      <td>Underground Springhouse</td>\n",
       "      <td>Joyfell</td>\n",
       "      <td>0 days 00:01:26.520000000</td>\n",
       "      <td>2019-12-19 11:25:33.480000+00:00</td>\n",
       "      <td>Joyfell - Underground Springhouse</td>\n",
       "      <td>sad</td>\n",
       "    </tr>\n",
       "  </tbody>\n",
       "</table>\n",
       "</div>"
      ],
      "text/plain": [
       "                   timestamp     angry    scared     happy       sad  \\\n",
       "0  2019-12-19 11:25:38+00:00  0.069113  0.109064  0.000982  0.557766   \n",
       "1  2019-12-19 11:25:53+00:00  0.024520  0.151708  0.001428  0.775339   \n",
       "2  2019-12-19 11:26:08+00:00  0.076808  0.146932  0.000880  0.598738   \n",
       "\n",
       "   surprised   neutral                   end_time              artist_name  \\\n",
       "0   0.001962  0.261114  2019-12-19 11:27:00+00:00  Underground Springhouse   \n",
       "1   0.001056  0.045949  2019-12-19 11:27:00+00:00  Underground Springhouse   \n",
       "2   0.002113  0.174530  2019-12-19 11:27:00+00:00  Underground Springhouse   \n",
       "\n",
       "  track_name                time_played                        start_time  \\\n",
       "0    Joyfell  0 days 00:01:26.520000000  2019-12-19 11:25:33.480000+00:00   \n",
       "1    Joyfell  0 days 00:01:26.520000000  2019-12-19 11:25:33.480000+00:00   \n",
       "2    Joyfell  0 days 00:01:26.520000000  2019-12-19 11:25:33.480000+00:00   \n",
       "\n",
       "                        track_artist top_emotion  \n",
       "0  Joyfell - Underground Springhouse         sad  \n",
       "1  Joyfell - Underground Springhouse         sad  \n",
       "2  Joyfell - Underground Springhouse         sad  "
      ]
     },
     "execution_count": 20,
     "metadata": {},
     "output_type": "execute_result"
    },
    {
     "data": {
      "application/javascript": [
       "\n",
       "            setTimeout(function() {\n",
       "                var nbb_cell_id = 20;\n",
       "                var nbb_unformatted_code = \"min_records = 32  # base 2 makes it look less arbitrary\\nemotions = [\\\"angry\\\", \\\"scared\\\", \\\"happy\\\", \\\"sad\\\", \\\"surprised\\\", \\\"neutral\\\"]\\n\\nsong_feats = pd.read_csv(\\\"data/song_features.csv\\\")\\n\\n# 'mf' = 'music_face'\\nmf = pd.read_csv(\\\"data/joined_data.csv\\\")\\nmf[\\\"track_artist\\\"] = mf[\\\"track_name\\\"] + \\\" - \\\" + mf[\\\"artist_name\\\"]\\n\\n# drop songs that don't meet min record req\\nsong_counts = mf[\\\"track_artist\\\"].value_counts()\\nsong_counts = song_counts[song_counts > min_records]\\nmf = mf[mf[\\\"track_artist\\\"].isin(song_counts.index)]\\n\\nmf[\\\"top_emotion\\\"] = mf[emotions].idxmax(axis=1)\\n\\nprint(f\\\"mf.shape: {mf.shape}\\\")\\nmf.head(3)\";\n",
       "                var nbb_formatted_code = \"min_records = 32  # base 2 makes it look less arbitrary\\nemotions = [\\\"angry\\\", \\\"scared\\\", \\\"happy\\\", \\\"sad\\\", \\\"surprised\\\", \\\"neutral\\\"]\\n\\nsong_feats = pd.read_csv(\\\"data/song_features.csv\\\")\\n\\n# 'mf' = 'music_face'\\nmf = pd.read_csv(\\\"data/joined_data.csv\\\")\\nmf[\\\"track_artist\\\"] = mf[\\\"track_name\\\"] + \\\" - \\\" + mf[\\\"artist_name\\\"]\\n\\n# drop songs that don't meet min record req\\nsong_counts = mf[\\\"track_artist\\\"].value_counts()\\nsong_counts = song_counts[song_counts > min_records]\\nmf = mf[mf[\\\"track_artist\\\"].isin(song_counts.index)]\\n\\nmf[\\\"top_emotion\\\"] = mf[emotions].idxmax(axis=1)\\n\\nprint(f\\\"mf.shape: {mf.shape}\\\")\\nmf.head(3)\";\n",
       "                var nbb_cells = Jupyter.notebook.get_cells();\n",
       "                for (var i = 0; i < nbb_cells.length; ++i) {\n",
       "                    if (nbb_cells[i].input_prompt_number == nbb_cell_id) {\n",
       "                        if (nbb_cells[i].get_text() == nbb_unformatted_code) {\n",
       "                             nbb_cells[i].set_text(nbb_formatted_code);\n",
       "                        }\n",
       "                        break;\n",
       "                    }\n",
       "                }\n",
       "            }, 500);\n",
       "            "
      ],
      "text/plain": [
       "<IPython.core.display.Javascript object>"
      ]
     },
     "metadata": {},
     "output_type": "display_data"
    }
   ],
   "source": [
    "min_records = 32  # base 2 makes it look less arbitrary\n",
    "emotions = [\"angry\", \"scared\", \"happy\", \"sad\", \"surprised\", \"neutral\"]\n",
    "\n",
    "song_feats = pd.read_csv(\"data/song_features.csv\")\n",
    "\n",
    "# 'mf' = 'music_face'\n",
    "mf = pd.read_csv(\"data/joined_data.csv\")\n",
    "mf[\"track_artist\"] = mf[\"track_name\"] + \" - \" + mf[\"artist_name\"]\n",
    "\n",
    "# drop songs that don't meet min record req\n",
    "song_counts = mf[\"track_artist\"].value_counts()\n",
    "song_counts = song_counts[song_counts > min_records]\n",
    "mf = mf[mf[\"track_artist\"].isin(song_counts.index)]\n",
    "\n",
    "mf[\"top_emotion\"] = mf[emotions].idxmax(axis=1)\n",
    "\n",
    "print(f\"mf.shape: {mf.shape}\")\n",
    "mf.head(3)"
   ]
  },
  {
   "cell_type": "code",
   "execution_count": 21,
   "metadata": {},
   "outputs": [
    {
     "data": {
      "text/plain": [
       "sad          5567\n",
       "neutral      3065\n",
       "angry         217\n",
       "happy          71\n",
       "scared         43\n",
       "surprised      17\n",
       "Name: top_emotion, dtype: int64"
      ]
     },
     "execution_count": 21,
     "metadata": {},
     "output_type": "execute_result"
    },
    {
     "data": {
      "application/javascript": [
       "\n",
       "            setTimeout(function() {\n",
       "                var nbb_cell_id = 21;\n",
       "                var nbb_unformatted_code = \"mf[\\\"top_emotion\\\"].value_counts()\";\n",
       "                var nbb_formatted_code = \"mf[\\\"top_emotion\\\"].value_counts()\";\n",
       "                var nbb_cells = Jupyter.notebook.get_cells();\n",
       "                for (var i = 0; i < nbb_cells.length; ++i) {\n",
       "                    if (nbb_cells[i].input_prompt_number == nbb_cell_id) {\n",
       "                        if (nbb_cells[i].get_text() == nbb_unformatted_code) {\n",
       "                             nbb_cells[i].set_text(nbb_formatted_code);\n",
       "                        }\n",
       "                        break;\n",
       "                    }\n",
       "                }\n",
       "            }, 500);\n",
       "            "
      ],
      "text/plain": [
       "<IPython.core.display.Javascript object>"
      ]
     },
     "metadata": {},
     "output_type": "display_data"
    }
   ],
   "source": [
    "mf[\"top_emotion\"].value_counts()"
   ]
  },
  {
   "cell_type": "code",
   "execution_count": 22,
   "metadata": {},
   "outputs": [
    {
     "data": {
      "image/png": "[encoded data removed]",
      "text/plain": [
       "<Figure size 720x360 with 2 Axes>"
      ]
     },
     "metadata": {
      "needs_background": "light"
     },
     "output_type": "display_data"
    },
    {
     "data": {
      "application/javascript": [
       "\n",
       "            setTimeout(function() {\n",
       "                var nbb_cell_id = 22;\n",
       "                var nbb_unformatted_code = \"plot_df = mf[emotions]\\nplot_df = plot_df.melt()\\n\\nfig, axes = plt.subplots(1, 2, figsize=(10, 5))\\nsns.boxplot(\\\"variable\\\", \\\"value\\\", data=plot_df, ax=axes[0])\\nsns.violinplot(\\\"variable\\\", \\\"value\\\", data=plot_df, ax=axes[1])\\nplt.tight_layout()\\nplt.show()\";\n",
       "                var nbb_formatted_code = \"plot_df = mf[emotions]\\nplot_df = plot_df.melt()\\n\\nfig, axes = plt.subplots(1, 2, figsize=(10, 5))\\nsns.boxplot(\\\"variable\\\", \\\"value\\\", data=plot_df, ax=axes[0])\\nsns.violinplot(\\\"variable\\\", \\\"value\\\", data=plot_df, ax=axes[1])\\nplt.tight_layout()\\nplt.show()\";\n",
       "                var nbb_cells = Jupyter.notebook.get_cells();\n",
       "                for (var i = 0; i < nbb_cells.length; ++i) {\n",
       "                    if (nbb_cells[i].input_prompt_number == nbb_cell_id) {\n",
       "                        if (nbb_cells[i].get_text() == nbb_unformatted_code) {\n",
       "                             nbb_cells[i].set_text(nbb_formatted_code);\n",
       "                        }\n",
       "                        break;\n",
       "                    }\n",
       "                }\n",
       "            }, 500);\n",
       "            "
      ],
      "text/plain": [
       "<IPython.core.display.Javascript object>"
      ]
     },
     "metadata": {},
     "output_type": "display_data"
    }
   ],
   "source": [
    "plot_df = mf[emotions]\n",
    "plot_df = plot_df.melt()\n",
    "\n",
    "fig, axes = plt.subplots(1, 2, figsize=(10, 5))\n",
    "sns.boxplot(\"variable\", \"value\", data=plot_df, ax=axes[0])\n",
    "sns.violinplot(\"variable\", \"value\", data=plot_df, ax=axes[1])\n",
    "plt.tight_layout()\n",
    "plt.show()"
   ]
  },
  {
   "cell_type": "code",
   "execution_count": 23,
   "metadata": {},
   "outputs": [
    {
     "data": {
      "application/javascript": [
       "\n",
       "            setTimeout(function() {\n",
       "                var nbb_cell_id = 23;\n",
       "                var nbb_unformatted_code = \"def std_scale(x):\\n    return (x - np.mean(x)) / np.std(x)\\n\\n\\nmf[emotions] = mf[emotions].apply(std_scale)\";\n",
       "                var nbb_formatted_code = \"def std_scale(x):\\n    return (x - np.mean(x)) / np.std(x)\\n\\n\\nmf[emotions] = mf[emotions].apply(std_scale)\";\n",
       "                var nbb_cells = Jupyter.notebook.get_cells();\n",
       "                for (var i = 0; i < nbb_cells.length; ++i) {\n",
       "                    if (nbb_cells[i].input_prompt_number == nbb_cell_id) {\n",
       "                        if (nbb_cells[i].get_text() == nbb_unformatted_code) {\n",
       "                             nbb_cells[i].set_text(nbb_formatted_code);\n",
       "                        }\n",
       "                        break;\n",
       "                    }\n",
       "                }\n",
       "            }, 500);\n",
       "            "
      ],
      "text/plain": [
       "<IPython.core.display.Javascript object>"
      ]
     },
     "metadata": {},
     "output_type": "display_data"
    }
   ],
   "source": [
    "def std_scale(x):\n",
    "    return (x - np.mean(x)) / np.std(x)\n",
    "\n",
    "\n",
    "mf[emotions] = mf[emotions].apply(std_scale)"
   ]
  },
  {
   "cell_type": "code",
   "execution_count": 24,
   "metadata": {
    "scrolled": false
   },
   "outputs": [
    {
     "data": {
      "application/javascript": [
       "\n",
       "            setTimeout(function() {\n",
       "                var nbb_cell_id = 24;\n",
       "                var nbb_unformatted_code = \"aggs = {e: \\\"mean\\\" for e in emotions}\\naggs[\\\"end_time\\\"] = \\\"count\\\"\\n\\nmean_song_emotion = mf.groupby(\\\"track_artist\\\").agg(aggs)\\nmean_song_emotion = mean_song_emotion.rename(columns={\\\"end_time\\\": \\\"n_samples\\\"})\";\n",
       "                var nbb_formatted_code = \"aggs = {e: \\\"mean\\\" for e in emotions}\\naggs[\\\"end_time\\\"] = \\\"count\\\"\\n\\nmean_song_emotion = mf.groupby(\\\"track_artist\\\").agg(aggs)\\nmean_song_emotion = mean_song_emotion.rename(columns={\\\"end_time\\\": \\\"n_samples\\\"})\";\n",
       "                var nbb_cells = Jupyter.notebook.get_cells();\n",
       "                for (var i = 0; i < nbb_cells.length; ++i) {\n",
       "                    if (nbb_cells[i].input_prompt_number == nbb_cell_id) {\n",
       "                        if (nbb_cells[i].get_text() == nbb_unformatted_code) {\n",
       "                             nbb_cells[i].set_text(nbb_formatted_code);\n",
       "                        }\n",
       "                        break;\n",
       "                    }\n",
       "                }\n",
       "            }, 500);\n",
       "            "
      ],
      "text/plain": [
       "<IPython.core.display.Javascript object>"
      ]
     },
     "metadata": {},
     "output_type": "display_data"
    }
   ],
   "source": [
    "aggs = {e: \"mean\" for e in emotions}\n",
    "aggs[\"end_time\"] = \"count\"\n",
    "\n",
    "mean_song_emotion = mf.groupby(\"track_artist\").agg(aggs)\n",
    "mean_song_emotion = mean_song_emotion.rename(columns={\"end_time\": \"n_samples\"})"
   ]
  },
  {
   "cell_type": "code",
   "execution_count": 25,
   "metadata": {
    "scrolled": false
   },
   "outputs": [
    {
     "data": {
      "image/png": "[encoded data removed]",
      "text/plain": [
       "<Figure size 432x288 with 1 Axes>"
      ]
     },
     "metadata": {
      "needs_background": "light"
     },
     "output_type": "display_data"
    },
    {
     "data": {
      "application/javascript": [
       "\n",
       "            setTimeout(function() {\n",
       "                var nbb_cell_id = 25;\n",
       "                var nbb_unformatted_code = \"top_happy = mean_song_emotion.sort_values(\\\"happy\\\", ascending=False)\\ntop_happy = top_happy.reset_index().head()\\n\\ntop_happy[\\\"song_id\\\"] = top_happy[\\\"track_artist\\\"].str.replace(\\\" - \\\", \\\"\\\\nby \\\", regex=False)\\nsns.barplot(x=\\\"happy\\\", y=\\\"track_artist\\\", data=top_happy)\\nplt.ylabel(\\\"\\\")\\nplt.xlabel(\\n    \\\"Happy Face Score\\\\n\\\\n\\\\n\\\"\\n    \\\"According to my facial expression, these songs make me happy.\\\\n\\\\n\\\"\\n    \\\"I had a neural network predict my facial expression while\\\\n\\\"\\n    \\\"I was working/listening to Spotify. I recorded how confident\\\\n\\\"\\n    \\\"the neural net was in its prediction.  This data was\\\\n\\\"\\n    \\\"standardized, and the average emotion score is plotted here.\\\\n\\\"\\n)\\nplt.title(\\\"Songs that Make Me Happy\\\")\\nplt.show()\";\n",
       "                var nbb_formatted_code = \"top_happy = mean_song_emotion.sort_values(\\\"happy\\\", ascending=False)\\ntop_happy = top_happy.reset_index().head()\\n\\ntop_happy[\\\"song_id\\\"] = top_happy[\\\"track_artist\\\"].str.replace(\\n    \\\" - \\\", \\\"\\\\nby \\\", regex=False\\n)\\nsns.barplot(x=\\\"happy\\\", y=\\\"track_artist\\\", data=top_happy)\\nplt.ylabel(\\\"\\\")\\nplt.xlabel(\\n    \\\"Happy Face Score\\\\n\\\\n\\\\n\\\"\\n    \\\"According to my facial expression, these songs make me happy.\\\\n\\\\n\\\"\\n    \\\"I had a neural network predict my facial expression while\\\\n\\\"\\n    \\\"I was working/listening to Spotify. I recorded how confident\\\\n\\\"\\n    \\\"the neural net was in its prediction.  This data was\\\\n\\\"\\n    \\\"standardized, and the average emotion score is plotted here.\\\\n\\\"\\n)\\nplt.title(\\\"Songs that Make Me Happy\\\")\\nplt.show()\";\n",
       "                var nbb_cells = Jupyter.notebook.get_cells();\n",
       "                for (var i = 0; i < nbb_cells.length; ++i) {\n",
       "                    if (nbb_cells[i].input_prompt_number == nbb_cell_id) {\n",
       "                        if (nbb_cells[i].get_text() == nbb_unformatted_code) {\n",
       "                             nbb_cells[i].set_text(nbb_formatted_code);\n",
       "                        }\n",
       "                        break;\n",
       "                    }\n",
       "                }\n",
       "            }, 500);\n",
       "            "
      ],
      "text/plain": [
       "<IPython.core.display.Javascript object>"
      ]
     },
     "metadata": {},
     "output_type": "display_data"
    }
   ],
   "source": [
    "top_happy = mean_song_emotion.sort_values(\"happy\", ascending=False)\n",
    "top_happy = top_happy.reset_index().head()\n",
    "\n",
    "top_happy[\"song_id\"] = top_happy[\"track_artist\"].str.replace(\n",
    "    \" - \", \"\\nby \", regex=False\n",
    ")\n",
    "sns.barplot(x=\"happy\", y=\"track_artist\", data=top_happy)\n",
    "plt.ylabel(\"\")\n",
    "plt.xlabel(\n",
    "    \"Happy Face Score\\n\\n\\n\"\n",
    "    \"According to my facial expression, these songs make me happy.\\n\\n\"\n",
    "    \"I had a neural network predict my facial expression while\\n\"\n",
    "    \"I was working/listening to Spotify. I recorded how confident\\n\"\n",
    "    \"the neural net was in its prediction.  This data was\\n\"\n",
    "    \"standardized, and the average emotion score is plotted here.\\n\"\n",
    ")\n",
    "plt.title(\"Songs that Make Me Happy\")\n",
    "plt.show()"
   ]
  },
  {
   "cell_type": "code",
   "execution_count": 48,
   "metadata": {},
   "outputs": [
    {
     "data": {
      "text/html": [
       "<div>\n",
       "<style scoped>\n",
       "    .dataframe tbody tr th:only-of-type {\n",
       "        vertical-align: middle;\n",
       "    }\n",
       "\n",
       "    .dataframe tbody tr th {\n",
       "        vertical-align: top;\n",
       "    }\n",
       "\n",
       "    .dataframe thead th {\n",
       "        text-align: right;\n",
       "    }\n",
       "</style>\n",
       "<table border=\"1\" class=\"dataframe\">\n",
       "  <thead>\n",
       "    <tr style=\"text-align: right;\">\n",
       "      <th></th>\n",
       "      <th>emotion</th>\n",
       "      <th>feat</th>\n",
       "      <th>corr</th>\n",
       "      <th>abs_corr</th>\n",
       "    </tr>\n",
       "  </thead>\n",
       "  <tbody>\n",
       "    <tr>\n",
       "      <th>0</th>\n",
       "      <td>angry</td>\n",
       "      <td>n_samples</td>\n",
       "      <td>-0.238459</td>\n",
       "      <td>0.238459</td>\n",
       "    </tr>\n",
       "    <tr>\n",
       "      <th>55</th>\n",
       "      <td>scared</td>\n",
       "      <td>liveness</td>\n",
       "      <td>-0.206944</td>\n",
       "      <td>0.206944</td>\n",
       "    </tr>\n",
       "    <tr>\n",
       "      <th>4</th>\n",
       "      <td>surprised</td>\n",
       "      <td>n_samples</td>\n",
       "      <td>0.199412</td>\n",
       "      <td>0.199412</td>\n",
       "    </tr>\n",
       "    <tr>\n",
       "      <th>77</th>\n",
       "      <td>neutral</td>\n",
       "      <td>duration_ms</td>\n",
       "      <td>-0.168598</td>\n",
       "      <td>0.168598</td>\n",
       "    </tr>\n",
       "    <tr>\n",
       "      <th>72</th>\n",
       "      <td>angry</td>\n",
       "      <td>duration_ms</td>\n",
       "      <td>0.160508</td>\n",
       "      <td>0.160508</td>\n",
       "    </tr>\n",
       "    <tr>\n",
       "      <th>30</th>\n",
       "      <td>angry</td>\n",
       "      <td>mode</td>\n",
       "      <td>-0.158707</td>\n",
       "      <td>0.158707</td>\n",
       "    </tr>\n",
       "    <tr>\n",
       "      <th>76</th>\n",
       "      <td>surprised</td>\n",
       "      <td>duration_ms</td>\n",
       "      <td>-0.157462</td>\n",
       "      <td>0.157462</td>\n",
       "    </tr>\n",
       "    <tr>\n",
       "      <th>53</th>\n",
       "      <td>neutral</td>\n",
       "      <td>instrumentalness</td>\n",
       "      <td>-0.157366</td>\n",
       "      <td>0.157366</td>\n",
       "    </tr>\n",
       "    <tr>\n",
       "      <th>59</th>\n",
       "      <td>neutral</td>\n",
       "      <td>liveness</td>\n",
       "      <td>0.157181</td>\n",
       "      <td>0.157181</td>\n",
       "    </tr>\n",
       "    <tr>\n",
       "      <th>67</th>\n",
       "      <td>scared</td>\n",
       "      <td>tempo</td>\n",
       "      <td>-0.154225</td>\n",
       "      <td>0.154225</td>\n",
       "    </tr>\n",
       "  </tbody>\n",
       "</table>\n",
       "</div>"
      ],
      "text/plain": [
       "      emotion              feat      corr  abs_corr\n",
       "0       angry         n_samples -0.238459  0.238459\n",
       "55     scared          liveness -0.206944  0.206944\n",
       "4   surprised         n_samples  0.199412  0.199412\n",
       "77    neutral       duration_ms -0.168598  0.168598\n",
       "72      angry       duration_ms  0.160508  0.160508\n",
       "30      angry              mode -0.158707  0.158707\n",
       "76  surprised       duration_ms -0.157462  0.157462\n",
       "53    neutral  instrumentalness -0.157366  0.157366\n",
       "59    neutral          liveness  0.157181  0.157181\n",
       "67     scared             tempo -0.154225  0.154225"
      ]
     },
     "execution_count": 48,
     "metadata": {},
     "output_type": "execute_result"
    },
    {
     "data": {
      "application/javascript": [
       "\n",
       "            setTimeout(function() {\n",
       "                var nbb_cell_id = 48;\n",
       "                var nbb_unformatted_code = \"songs = pd.merge(mean_song_emotion, song_feats, on=\\\"track_artist\\\")\\n\\nnum_cols = songs.select_dtypes(\\\"number\\\").columns\\nfeat_cols = [c for c in num_cols if c not in emotions]\\n\\ncorrs_oi = songs.corr().loc[emotions, feat_cols]\\ntall_corrs_oi = corrs_oi.reset_index().melt(\\\"index\\\")\\ntall_corrs_oi.columns = [\\\"emotion\\\", \\\"feat\\\", \\\"corr\\\"]\\n\\ntall_corrs_oi[\\\"abs_corr\\\"] = tall_corrs_oi[\\\"corr\\\"].abs()\\ntall_corrs_oi.sort_values(\\\"abs_corr\\\", ascending=False).head(10)\";\n",
       "                var nbb_formatted_code = \"songs = pd.merge(mean_song_emotion, song_feats, on=\\\"track_artist\\\")\\n\\nnum_cols = songs.select_dtypes(\\\"number\\\").columns\\nfeat_cols = [c for c in num_cols if c not in emotions]\\n\\ncorrs_oi = songs.corr().loc[emotions, feat_cols]\\ntall_corrs_oi = corrs_oi.reset_index().melt(\\\"index\\\")\\ntall_corrs_oi.columns = [\\\"emotion\\\", \\\"feat\\\", \\\"corr\\\"]\\n\\ntall_corrs_oi[\\\"abs_corr\\\"] = tall_corrs_oi[\\\"corr\\\"].abs()\\ntall_corrs_oi.sort_values(\\\"abs_corr\\\", ascending=False).head(10)\";\n",
       "                var nbb_cells = Jupyter.notebook.get_cells();\n",
       "                for (var i = 0; i < nbb_cells.length; ++i) {\n",
       "                    if (nbb_cells[i].input_prompt_number == nbb_cell_id) {\n",
       "                        if (nbb_cells[i].get_text() == nbb_unformatted_code) {\n",
       "                             nbb_cells[i].set_text(nbb_formatted_code);\n",
       "                        }\n",
       "                        break;\n",
       "                    }\n",
       "                }\n",
       "            }, 500);\n",
       "            "
      ],
      "text/plain": [
       "<IPython.core.display.Javascript object>"
      ]
     },
     "metadata": {},
     "output_type": "display_data"
    }
   ],
   "source": [
    "songs = pd.merge(mean_song_emotion, song_feats, on=\"track_artist\")\n",
    "\n",
    "num_cols = songs.select_dtypes(\"number\").columns\n",
    "feat_cols = [c for c in num_cols if c not in emotions]\n",
    "\n",
    "corrs_oi = songs.corr().loc[emotions, feat_cols]\n",
    "tall_corrs_oi = corrs_oi.reset_index().melt(\"index\")\n",
    "tall_corrs_oi.columns = [\"emotion\", \"feat\", \"corr\"]\n",
    "\n",
    "tall_corrs_oi[\"abs_corr\"] = tall_corrs_oi[\"corr\"].abs()\n",
    "tall_corrs_oi.sort_values(\"abs_corr\", ascending=False).head(10)"
   ]
  },
  {
   "cell_type": "code",
   "execution_count": null,
   "metadata": {},
   "outputs": [],
   "source": []
  }
 ],
 "metadata": {
  "kernelspec": {
   "display_name": "Python 3",
   "language": "python",
   "name": "python3"
  },
  "language_info": {
   "codemirror_mode": {
    "name": "ipython",
    "version": 3
   },
   "file_extension": ".py",
   "mimetype": "text/x-python",
   "name": "python",
   "nbconvert_exporter": "python",
   "pygments_lexer": "ipython3",
   "version": "3.7.7"
  }
 },
 "nbformat": 4,
 "nbformat_minor": 4
}
