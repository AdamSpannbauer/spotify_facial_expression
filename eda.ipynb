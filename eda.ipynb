{
 "cells": [
  {
   "cell_type": "code",
   "execution_count": 1,
   "metadata": {},
   "outputs": [
    {
     "data": {
      "application/javascript": [
       "\n",
       "            setTimeout(function() {\n",
       "                var nbb_cell_id = 1;\n",
       "                var nbb_unformatted_code = \"%reload_ext nb_black\";\n",
       "                var nbb_formatted_code = \"%reload_ext nb_black\";\n",
       "                var nbb_cells = Jupyter.notebook.get_cells();\n",
       "                for (var i = 0; i < nbb_cells.length; ++i) {\n",
       "                    if (nbb_cells[i].input_prompt_number == nbb_cell_id) {\n",
       "                        if (nbb_cells[i].get_text() == nbb_unformatted_code) {\n",
       "                             nbb_cells[i].set_text(nbb_formatted_code);\n",
       "                        }\n",
       "                        break;\n",
       "                    }\n",
       "                }\n",
       "            }, 500);\n",
       "            "
      ],
      "text/plain": [
       "<IPython.core.display.Javascript object>"
      ]
     },
     "metadata": {},
     "output_type": "display_data"
    }
   ],
   "source": [
    "%reload_ext nb_black"
   ]
  },
  {
   "cell_type": "code",
   "execution_count": 2,
   "metadata": {},
   "outputs": [
    {
     "data": {
      "application/javascript": [
       "\n",
       "            setTimeout(function() {\n",
       "                var nbb_cell_id = 2;\n",
       "                var nbb_unformatted_code = \"import pandas as pd\\nimport numpy as np\\nimport seaborn as sns\\nimport matplotlib.pyplot as plt\\n\\n%matplotlib inline\";\n",
       "                var nbb_formatted_code = \"import pandas as pd\\nimport numpy as np\\nimport seaborn as sns\\nimport matplotlib.pyplot as plt\\n\\n%matplotlib inline\";\n",
       "                var nbb_cells = Jupyter.notebook.get_cells();\n",
       "                for (var i = 0; i < nbb_cells.length; ++i) {\n",
       "                    if (nbb_cells[i].input_prompt_number == nbb_cell_id) {\n",
       "                        if (nbb_cells[i].get_text() == nbb_unformatted_code) {\n",
       "                             nbb_cells[i].set_text(nbb_formatted_code);\n",
       "                        }\n",
       "                        break;\n",
       "                    }\n",
       "                }\n",
       "            }, 500);\n",
       "            "
      ],
      "text/plain": [
       "<IPython.core.display.Javascript object>"
      ]
     },
     "metadata": {},
     "output_type": "display_data"
    }
   ],
   "source": [
    "import pandas as pd\n",
    "import numpy as np\n",
    "import seaborn as sns\n",
    "import matplotlib.pyplot as plt\n",
    "\n",
    "%matplotlib inline"
   ]
  },
  {
   "cell_type": "code",
   "execution_count": 3,
   "metadata": {},
   "outputs": [
    {
     "name": "stdout",
     "output_type": "stream",
     "text": [
      "mf.shape: (14857, 12)\n"
     ]
    },
    {
     "data": {
      "text/html": [
       "<div>\n",
       "<style scoped>\n",
       "    .dataframe tbody tr th:only-of-type {\n",
       "        vertical-align: middle;\n",
       "    }\n",
       "\n",
       "    .dataframe tbody tr th {\n",
       "        vertical-align: top;\n",
       "    }\n",
       "\n",
       "    .dataframe thead th {\n",
       "        text-align: right;\n",
       "    }\n",
       "</style>\n",
       "<table border=\"1\" class=\"dataframe\">\n",
       "  <thead>\n",
       "    <tr style=\"text-align: right;\">\n",
       "      <th></th>\n",
       "      <th>timestamp</th>\n",
       "      <th>angry</th>\n",
       "      <th>scared</th>\n",
       "      <th>happy</th>\n",
       "      <th>sad</th>\n",
       "      <th>surprised</th>\n",
       "      <th>neutral</th>\n",
       "      <th>end_time</th>\n",
       "      <th>artist_name</th>\n",
       "      <th>track_name</th>\n",
       "      <th>time_played</th>\n",
       "      <th>start_time</th>\n",
       "    </tr>\n",
       "  </thead>\n",
       "  <tbody>\n",
       "    <tr>\n",
       "      <th>0</th>\n",
       "      <td>2019-12-19 11:25:38+00:00</td>\n",
       "      <td>0.069113</td>\n",
       "      <td>0.109064</td>\n",
       "      <td>0.000982</td>\n",
       "      <td>0.557766</td>\n",
       "      <td>0.001962</td>\n",
       "      <td>0.261114</td>\n",
       "      <td>2019-12-19 11:27:00+00:00</td>\n",
       "      <td>Underground Springhouse</td>\n",
       "      <td>Joyfell</td>\n",
       "      <td>0 days 00:01:26.520000000</td>\n",
       "      <td>2019-12-19 11:25:33.480000+00:00</td>\n",
       "    </tr>\n",
       "    <tr>\n",
       "      <th>1</th>\n",
       "      <td>2019-12-19 11:25:53+00:00</td>\n",
       "      <td>0.024520</td>\n",
       "      <td>0.151708</td>\n",
       "      <td>0.001428</td>\n",
       "      <td>0.775339</td>\n",
       "      <td>0.001056</td>\n",
       "      <td>0.045949</td>\n",
       "      <td>2019-12-19 11:27:00+00:00</td>\n",
       "      <td>Underground Springhouse</td>\n",
       "      <td>Joyfell</td>\n",
       "      <td>0 days 00:01:26.520000000</td>\n",
       "      <td>2019-12-19 11:25:33.480000+00:00</td>\n",
       "    </tr>\n",
       "    <tr>\n",
       "      <th>2</th>\n",
       "      <td>2019-12-19 11:26:08+00:00</td>\n",
       "      <td>0.076808</td>\n",
       "      <td>0.146932</td>\n",
       "      <td>0.000880</td>\n",
       "      <td>0.598738</td>\n",
       "      <td>0.002113</td>\n",
       "      <td>0.174530</td>\n",
       "      <td>2019-12-19 11:27:00+00:00</td>\n",
       "      <td>Underground Springhouse</td>\n",
       "      <td>Joyfell</td>\n",
       "      <td>0 days 00:01:26.520000000</td>\n",
       "      <td>2019-12-19 11:25:33.480000+00:00</td>\n",
       "    </tr>\n",
       "  </tbody>\n",
       "</table>\n",
       "</div>"
      ],
      "text/plain": [
       "                   timestamp     angry    scared     happy       sad  \\\n",
       "0  2019-12-19 11:25:38+00:00  0.069113  0.109064  0.000982  0.557766   \n",
       "1  2019-12-19 11:25:53+00:00  0.024520  0.151708  0.001428  0.775339   \n",
       "2  2019-12-19 11:26:08+00:00  0.076808  0.146932  0.000880  0.598738   \n",
       "\n",
       "   surprised   neutral                   end_time              artist_name  \\\n",
       "0   0.001962  0.261114  2019-12-19 11:27:00+00:00  Underground Springhouse   \n",
       "1   0.001056  0.045949  2019-12-19 11:27:00+00:00  Underground Springhouse   \n",
       "2   0.002113  0.174530  2019-12-19 11:27:00+00:00  Underground Springhouse   \n",
       "\n",
       "  track_name                time_played                        start_time  \n",
       "0    Joyfell  0 days 00:01:26.520000000  2019-12-19 11:25:33.480000+00:00  \n",
       "1    Joyfell  0 days 00:01:26.520000000  2019-12-19 11:25:33.480000+00:00  \n",
       "2    Joyfell  0 days 00:01:26.520000000  2019-12-19 11:25:33.480000+00:00  "
      ]
     },
     "execution_count": 3,
     "metadata": {},
     "output_type": "execute_result"
    },
    {
     "data": {
      "application/javascript": [
       "\n",
       "            setTimeout(function() {\n",
       "                var nbb_cell_id = 3;\n",
       "                var nbb_unformatted_code = \"# 'mf' = 'music_face'\\nmf = pd.read_csv(\\\"data/joined_data.csv\\\")\\n\\nprint(f\\\"mf.shape: {mf.shape}\\\")\\nmf.head(3)\";\n",
       "                var nbb_formatted_code = \"# 'mf' = 'music_face'\\nmf = pd.read_csv(\\\"data/joined_data.csv\\\")\\n\\nprint(f\\\"mf.shape: {mf.shape}\\\")\\nmf.head(3)\";\n",
       "                var nbb_cells = Jupyter.notebook.get_cells();\n",
       "                for (var i = 0; i < nbb_cells.length; ++i) {\n",
       "                    if (nbb_cells[i].input_prompt_number == nbb_cell_id) {\n",
       "                        if (nbb_cells[i].get_text() == nbb_unformatted_code) {\n",
       "                             nbb_cells[i].set_text(nbb_formatted_code);\n",
       "                        }\n",
       "                        break;\n",
       "                    }\n",
       "                }\n",
       "            }, 500);\n",
       "            "
      ],
      "text/plain": [
       "<IPython.core.display.Javascript object>"
      ]
     },
     "metadata": {},
     "output_type": "display_data"
    }
   ],
   "source": [
    "# 'mf' = 'music_face'\n",
    "mf = pd.read_csv(\"data/joined_data.csv\")\n",
    "\n",
    "print(f\"mf.shape: {mf.shape}\")\n",
    "mf.head(3)"
   ]
  },
  {
   "cell_type": "code",
   "execution_count": 4,
   "metadata": {},
   "outputs": [
    {
     "data": {
      "image/png": "[encoded data removed]",
      "text/plain": [
       "<Figure size 720x360 with 2 Axes>"
      ]
     },
     "metadata": {
      "needs_background": "light"
     },
     "output_type": "display_data"
    },
    {
     "data": {
      "application/javascript": [
       "\n",
       "            setTimeout(function() {\n",
       "                var nbb_cell_id = 4;\n",
       "                var nbb_unformatted_code = \"plot_df = mf[[\\\"angry\\\", \\\"scared\\\", \\\"happy\\\", \\\"sad\\\", \\\"surprised\\\", \\\"neutral\\\"]]\\nplot_df = plot_df.melt()\\n\\nfig, axes = plt.subplots(1, 2, figsize=(10, 5))\\nsns.boxplot(\\\"variable\\\", \\\"value\\\", data=plot_df, ax=axes[0])\\nsns.violinplot(\\\"variable\\\", \\\"value\\\", data=plot_df, ax=axes[1])\\nplt.tight_layout()\\nplt.show()\";\n",
       "                var nbb_formatted_code = \"plot_df = mf[[\\\"angry\\\", \\\"scared\\\", \\\"happy\\\", \\\"sad\\\", \\\"surprised\\\", \\\"neutral\\\"]]\\nplot_df = plot_df.melt()\\n\\nfig, axes = plt.subplots(1, 2, figsize=(10, 5))\\nsns.boxplot(\\\"variable\\\", \\\"value\\\", data=plot_df, ax=axes[0])\\nsns.violinplot(\\\"variable\\\", \\\"value\\\", data=plot_df, ax=axes[1])\\nplt.tight_layout()\\nplt.show()\";\n",
       "                var nbb_cells = Jupyter.notebook.get_cells();\n",
       "                for (var i = 0; i < nbb_cells.length; ++i) {\n",
       "                    if (nbb_cells[i].input_prompt_number == nbb_cell_id) {\n",
       "                        if (nbb_cells[i].get_text() == nbb_unformatted_code) {\n",
       "                             nbb_cells[i].set_text(nbb_formatted_code);\n",
       "                        }\n",
       "                        break;\n",
       "                    }\n",
       "                }\n",
       "            }, 500);\n",
       "            "
      ],
      "text/plain": [
       "<IPython.core.display.Javascript object>"
      ]
     },
     "metadata": {},
     "output_type": "display_data"
    }
   ],
   "source": [
    "plot_df = mf[[\"angry\", \"scared\", \"happy\", \"sad\", \"surprised\", \"neutral\"]]\n",
    "plot_df = plot_df.melt()\n",
    "\n",
    "fig, axes = plt.subplots(1, 2, figsize=(10, 5))\n",
    "sns.boxplot(\"variable\", \"value\", data=plot_df, ax=axes[0])\n",
    "sns.violinplot(\"variable\", \"value\", data=plot_df, ax=axes[1])\n",
    "plt.tight_layout()\n",
    "plt.show()"
   ]
  },
  {
   "cell_type": "code",
   "execution_count": 5,
   "metadata": {},
   "outputs": [
    {
     "data": {
      "text/plain": [
       "sad          9659\n",
       "neutral      4565\n",
       "angry         422\n",
       "happy         111\n",
       "scared         77\n",
       "surprised      23\n",
       "Name: top_emotion, dtype: int64"
      ]
     },
     "execution_count": 5,
     "metadata": {},
     "output_type": "execute_result"
    },
    {
     "data": {
      "application/javascript": [
       "\n",
       "            setTimeout(function() {\n",
       "                var nbb_cell_id = 5;\n",
       "                var nbb_unformatted_code = \"mf[\\\"top_emotion\\\"] = mf[\\n    [\\\"angry\\\", \\\"scared\\\", \\\"happy\\\", \\\"sad\\\", \\\"surprised\\\", \\\"neutral\\\"]\\n].idxmax(axis=1)\\nmf[\\\"top_emotion\\\"].value_counts()\";\n",
       "                var nbb_formatted_code = \"mf[\\\"top_emotion\\\"] = mf[\\n    [\\\"angry\\\", \\\"scared\\\", \\\"happy\\\", \\\"sad\\\", \\\"surprised\\\", \\\"neutral\\\"]\\n].idxmax(axis=1)\\nmf[\\\"top_emotion\\\"].value_counts()\";\n",
       "                var nbb_cells = Jupyter.notebook.get_cells();\n",
       "                for (var i = 0; i < nbb_cells.length; ++i) {\n",
       "                    if (nbb_cells[i].input_prompt_number == nbb_cell_id) {\n",
       "                        if (nbb_cells[i].get_text() == nbb_unformatted_code) {\n",
       "                             nbb_cells[i].set_text(nbb_formatted_code);\n",
       "                        }\n",
       "                        break;\n",
       "                    }\n",
       "                }\n",
       "            }, 500);\n",
       "            "
      ],
      "text/plain": [
       "<IPython.core.display.Javascript object>"
      ]
     },
     "metadata": {},
     "output_type": "display_data"
    }
   ],
   "source": [
    "mf[\"top_emotion\"] = mf[\n",
    "    [\"angry\", \"scared\", \"happy\", \"sad\", \"surprised\", \"neutral\"]\n",
    "].idxmax(axis=1)\n",
    "mf[\"top_emotion\"].value_counts()"
   ]
  }
 ],
 "metadata": {
  "kernelspec": {
   "display_name": "Python 3",
   "language": "python",
   "name": "python3"
  },
  "language_info": {
   "codemirror_mode": {
    "name": "ipython",
    "version": 3
   },
   "file_extension": ".py",
   "mimetype": "text/x-python",
   "name": "python",
   "nbconvert_exporter": "python",
   "pygments_lexer": "ipython3",
   "version": "3.7.7"
  }
 },
 "nbformat": 4,
 "nbformat_minor": 4
}
